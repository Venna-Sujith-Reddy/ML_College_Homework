{
 "cells": [
  {
   "cell_type": "code",
   "execution_count": 22,
   "metadata": {},
   "outputs": [],
   "source": [
    "import numpy as np\n",
    "import pandas as pd\n",
    "import matplotlib.pyplot as plt\n"
   ]
  },
  {
   "cell_type": "code",
   "execution_count": 23,
   "metadata": {},
   "outputs": [],
   "source": [
    "x = np.array([[0.5, 1.5], [1,1], [1.5, 0.5], [3, 0.5], [2, 2], [1, 2.5]])  #(m,n)\n",
    "y= np.array([0, 0, 0, 1, 1, 1])                                           #(m,)"
   ]
  },
  {
   "cell_type": "code",
   "execution_count": 24,
   "metadata": {},
   "outputs": [
    {
     "name": "stdout",
     "output_type": "stream",
     "text": [
      "[[0.5 1.5]\n",
      " [1.  1. ]\n",
      " [1.5 0.5]]\n",
      "[[3.  0.5]\n",
      " [2.  2. ]\n",
      " [1.  2.5]]\n"
     ]
    }
   ],
   "source": [
    "class1=x[y.flatten()==0]\n",
    "class2=x[y.flatten()==1]\n",
    "print(class1)\n",
    "print(class2)"
   ]
  },
  {
   "cell_type": "code",
   "execution_count": 25,
   "metadata": {},
   "outputs": [
    {
     "data": {
      "image/png": "[encoded data removed]",
      "text/plain": [
       "<Figure size 500x500 with 1 Axes>"
      ]
     },
     "metadata": {},
     "output_type": "display_data"
    }
   ],
   "source": [
    "fig,axis=plt.subplots(1,1,figsize=(5,5))\n",
    "axis.scatter(class1[:,0],class1[:,1],marker=\"X\",c=\"red\")\n",
    "axis.scatter(class2[:,0],class2[:,1],marker=\"X\",c=\"blue\")\n",
    "plt.show()"
   ]
  },
  {
   "cell_type": "code",
   "execution_count": 26,
   "metadata": {},
   "outputs": [],
   "source": [
    "import math\n",
    "import tensorflow as tf\n",
    "def costfunctionoflogisticregression(w,b,x,y):\n",
    "\n",
    "    m=x.shape[0]\n",
    "    cost=0.0\n",
    "    for i in range(m):\n",
    "        z_i=np.dot(w,x[i])+b\n",
    "        sig=tf.sigmoid(z_i)\n",
    "        cost+=-y[i]*np.log(sig)-(1-y[i])*np.log(1-sig)\n",
    "    cost=cost/m\n",
    "    return cost\n",
    "\n",
    "\n"
   ]
  },
  {
   "cell_type": "code",
   "execution_count": 27,
   "metadata": {},
   "outputs": [],
   "source": [
    "import copy,math\n",
    "import numpy as np\n",
    "import matplotlib.pyplot as plt    "
   ]
  },
  {
   "cell_type": "code",
   "execution_count": 29,
   "metadata": {},
   "outputs": [
    {
     "name": "stdout",
     "output_type": "stream",
     "text": [
      "[[0.5 1.5]\n",
      " [1.  1. ]\n",
      " [1.5 0.5]]\n",
      "[[3.  0.5]\n",
      " [2.  2. ]\n",
      " [1.  2.5]]\n"
     ]
    },
    {
     "data": {
      "image/png": "[encoded data removed]",
      "text/plain": [
       "<Figure size 500x500 with 1 Axes>"
      ]
     },
     "metadata": {},
     "output_type": "display_data"
    }
   ],
   "source": [
    "X_train = np.array([[0.5, 1.5], [1,1], [1.5, 0.5], [3, 0.5], [2, 2], [1, 2.5]])\n",
    "y_train = np.array([0, 0, 0, 1, 1, 1])\n",
    "class1=x[y.flatten()==0]\n",
    "class2=x[y.flatten()==1]\n",
    "print(class1)\n",
    "print(class2)\n",
    "fig,axis=plt.subplots(1,1,figsize=(5,5))\n",
    "axis.scatter(class1[:,0],class1[:,1],marker=\"X\",c=\"red\")\n",
    "axis.scatter(class2[:,0],class2[:,1],marker=\"X\",c=\"blue\")\n",
    "plt.show()"
   ]
  },
  {
   "cell_type": "code",
   "execution_count": 31,
   "metadata": {},
   "outputs": [],
   "source": [
    "def compute_gradient(w,b,x,y):\n",
    "\n",
    "    dj_dw=0.0\n",
    "    dj_db=0.0\n",
    "    m=x.shape[0]\n",
    "    for i in range(m):\n",
    "        inner=tf.sigmoid(np.dot(w,x[i])+b)-y[i]\n",
    "        dj_dw+=inner*x[i]\n",
    "        dj_db+=inner\n",
    "    return dj_dw/m,dj_db/m\n"
   ]
  },
  {
   "cell_type": "code",
   "execution_count": null,
   "metadata": {},
   "outputs": [],
   "source": []
  }
 ],
 "metadata": {
  "kernelspec": {
   "display_name": "Python 3",
   "language": "python",
   "name": "python3"
  },
  "language_info": {
   "codemirror_mode": {
    "name": "ipython",
    "version": 3
   },
   "file_extension": ".py",
   "mimetype": "text/x-python",
   "name": "python",
   "nbconvert_exporter": "python",
   "pygments_lexer": "ipython3",
   "version": "3.11.9"
  }
 },
 "nbformat": 4,
 "nbformat_minor": 2
}
