{
 "cells": [
  {
   "cell_type": "code",
   "execution_count": 30,
   "metadata": {},
   "outputs": [],
   "source": [
    "import matplotlib.pyplot as plt\n",
    "import numpy as np \n",
    "\n"
   ]
  },
  {
   "cell_type": "code",
   "execution_count": 31,
   "metadata": {},
   "outputs": [],
   "source": [
    "def cost_function_linear_regression(w,b,lamb,x,y):\n",
    "\n",
    "    m=x.shape[0]\n",
    "    cost=(np.dot(x,w)+b)-y\n",
    "    cost=np.square(cost)\n",
    "    regularized=np.dot(w,w)*lamb\n",
    "    total_cost=(1/(2*m))*(np.sum(cost)+np.sum(regularized))\n",
    "    return total_cost"
   ]
  },
  {
   "cell_type": "code",
   "execution_count": 32,
   "metadata": {},
   "outputs": [
    {
     "name": "stdout",
     "output_type": "stream",
     "text": [
      "Regularized cost: 0.07917239320214277\n"
     ]
    }
   ],
   "source": [
    "np.random.seed(1)\n",
    "X_tmp = np.random.rand(5,6)\n",
    "y_tmp = np.array([0,1,0,1,0])\n",
    "w_tmp = np.random.rand(X_tmp.shape[1]).reshape(-1,)-0.5\n",
    "b_tmp = 0.5\n",
    "lambda_tmp = 0.7\n",
    "cost_tmp = cost_function_linear_regression(w_tmp, b_tmp, lambda_tmp,X_tmp,y_tmp)\n",
    "\n",
    "print(\"Regularized cost:\", cost_tmp)"
   ]
  },
  {
   "cell_type": "code",
   "execution_count": 33,
   "metadata": {},
   "outputs": [],
   "source": [
    "def cost_function_logistic_regression(x,y,w,b,lamb):\n",
    "\n",
    "    m=x.shape[0]\n",
    "    z=np.dot(x,w)+b\n",
    "    sigmoid=1/(1+np.exp(-z))\n",
    "    cost=y*np.log(sigmoid)+(1-y)*np.log(1-sigmoid)\n",
    "    total= -np.sum(cost)/m+np.sum(np.dot(w,w))*(lamb/(2*m))\n",
    "    return total  "
   ]
  },
  {
   "cell_type": "code",
   "execution_count": 34,
   "metadata": {},
   "outputs": [
    {
     "name": "stdout",
     "output_type": "stream",
     "text": [
      "Regularized cost: 0.6850849138741673\n"
     ]
    }
   ],
   "source": [
    "np.random.seed(1)\n",
    "X_tmp = np.random.rand(5,6)\n",
    "y_tmp = np.array([0,1,0,1,0])\n",
    "w_tmp = np.random.rand(X_tmp.shape[1]).reshape(-1,)-0.5\n",
    "b_tmp = 0.5\n",
    "lambda_tmp = 0.7\n",
    "cost_tmp = cost_function_logistic_regression(X_tmp, y_tmp, w_tmp, b_tmp, lambda_tmp)\n",
    "\n",
    "print(\"Regularized cost:\", cost_tmp)"
   ]
  },
  {
   "cell_type": "code",
   "execution_count": 35,
   "metadata": {},
   "outputs": [],
   "source": [
    "def compute_gradient(x,y,w,b,lamb): \n",
    "    m=x.shape[0]\n",
    "    predictions=np.dot(x,w)+b\n",
    "    error=predictions-y\n",
    "    total=np.dot(x.T,error)/m\n",
    "\n",
    "    dj_dw= total+(lamb/m)*w\n",
    "\n",
    "    dj_db=np.sum(error)\n",
    "    return dj_dw,dj_db/m\n",
    "    \n",
    "\n",
    "    \n",
    "\n",
    "     "
   ]
  },
  {
   "cell_type": "code",
   "execution_count": 37,
   "metadata": {},
   "outputs": [
    {
     "name": "stdout",
     "output_type": "stream",
     "text": [
      "dj_db: [0.29653215 0.49116796 0.21645878]\n",
      "Regularized dj_dw:\n",
      " 0.6648774569425726\n"
     ]
    }
   ],
   "source": [
    "np.random.seed(1)\n",
    "X_tmp = np.random.rand(5,3)\n",
    "y_tmp = np.array([0,1,0,1,0])\n",
    "w_tmp = np.random.rand(X_tmp.shape[1])\n",
    "b_tmp = 0.5\n",
    "lambda_tmp = 0.7\n",
    "dj_db_tmp, dj_dw_tmp =  compute_gradient(X_tmp,y_tmp,w_tmp,b_tmp,lambda_tmp)\n",
    "\n",
    "print(f\"dj_db: {dj_db_tmp}\", )\n",
    "print(f\"Regularized dj_dw:\\n {dj_dw_tmp.tolist()}\", )"
   ]
  },
  {
   "cell_type": "code",
   "execution_count": 40,
   "metadata": {},
   "outputs": [],
   "source": [
    "def compute_gradient_for_logistic_regression(x,y,w,b,lamb):\n",
    "    m=x.shape[0]\n",
    "    z=np.dot(x,w)+b\n",
    "    logistic=1/(1+np.exp(-z))\n",
    "    error=logistic-y\n",
    "    dj_dw=np.dot(x.T,error)/m+(lamb/m)*w\n",
    "    dj_db=np.sum(error)/m\n",
    "    return dj_dw,dj_db"
   ]
  },
  {
   "cell_type": "code",
   "execution_count": 42,
   "metadata": {},
   "outputs": [
    {
     "name": "stdout",
     "output_type": "stream",
     "text": [
      "dj_db: [1.94953366 1.91409088 1.93388479]\n",
      "Regularized dj_dw:\n",
      " 0.341798994972791\n"
     ]
    }
   ],
   "source": [
    "np.random.seed(1)\n",
    "X_tmp = np.random.rand(5,3)\n",
    "y_tmp = np.array([0,1,0,1,0])\n",
    "w_tmp = np.random.rand(X_tmp.shape[1])\n",
    "b_tmp = 0.5\n",
    "lambda_tmp = 0.7\n",
    "dj_db_tmp, dj_dw_tmp =  compute_gradient_for_logistic_regression(X_tmp,y_tmp,w_tmp,b_tmp,lambda_tmp)\n",
    "\n",
    "print(f\"dj_db: {dj_db_tmp}\", )\n",
    "print(f\"Regularized dj_dw:\\n {dj_dw_tmp.tolist()}\", )"
   ]
  },
  {
   "cell_type": "code",
   "execution_count": null,
   "metadata": {},
   "outputs": [],
   "source": []
  }
 ],
 "metadata": {
  "kernelspec": {
   "display_name": "Python 3",
   "language": "python",
   "name": "python3"
  },
  "language_info": {
   "codemirror_mode": {
    "name": "ipython",
    "version": 3
   },
   "file_extension": ".py",
   "mimetype": "text/x-python",
   "name": "python",
   "nbconvert_exporter": "python",
   "pygments_lexer": "ipython3",
   "version": "3.11.9"
  }
 },
 "nbformat": 4,
 "nbformat_minor": 2
}
